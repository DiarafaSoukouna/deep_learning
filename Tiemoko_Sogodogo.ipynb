{
 "cells": [
  {
   "cell_type": "markdown",
   "metadata": {},
   "source": [
    "#### PARTIE I/B : Prédiction de la présence de la maladie cardiaque"
   ]
  },
  {
   "cell_type": "markdown",
   "metadata": {},
   "source": [
    "- Références :\n",
    "    - https://scikit-learn.org/stable/modules/tree.html#:~:text=DecisionTreeClassifier%20is%20a%20class%20capable,class%20classification%20on%20a%20dataset.&text=In%20case%20that%20there%20are,lowest%20index%20amongst%20those%20classes."
   ]
  },
  {
   "cell_type": "markdown",
   "metadata": {},
   "source": [
    "3. Notre Data scientist nous suggère ici d’utiliser un modèle de classification pour prédire si un nouveau patient est malade du coeur ou non.\n",
    "\n",
    "    - (a) Êtes vous d’accord avec lui ? Pourquoi ?\n",
    "        - Oui, on est d'accord ! Parceque la donnée à prédire est de classe binaire, donc la prédiction se fait sur deux catégories.\n",
    "    \n",
    "    - (b) Ce problème fait partie de quelle classe de problèmes de Machine Learning ? Justifiez.\n",
    "        - C'est un problème d'apprentissage supervisé ! On connaît les données sur lesquelles le modèle sera formé, donc la prédiction sera faite à partir des données fournies.\n",
    "\n",
    "4. Suggérez un algorithme de classification pour ce problème de prédiction de la variable target. Pourquoi cet algorithme ? Décrivez brièvement le principe de cet algorithme.\n",
    "    - Notre choix d'algorithme de classification portera sur les **Arbres de décision**.\n",
    "\n",
    "    - Il existe plusieurs algorithmes de classification qu'on peut utiliser en fonction du problème. Mais les arbres de décision sont des algorithmes très simple à utiliser pour un problème de classification binaire.\n",
    "    Toute fois, on peut aussi tester d'autres algorithmes avec celui-ci en faisant des comparaisons et le bon algorithme sera donc celui qui donnera les meilleures perfomances pour notre problème.\n",
    "    \n",
    "    - Alors comment l'arbre de décision (dans notre cas) marche ?\n",
    "    L'algorithme de l'arbre de décision analyse les données et trouve la valeur de la variable prédictive (target) ensuite sépare les données en deux ensembles.\n",
    "    Après la première séparation, il examine chacun des deux sous-ensembles de données et trouve une variable prédictive et les caractéristiques qui donnent le plus d'informations liées à celle-ci (target). Le processus se poursuit jusqu'à ce que la profondeur maximale (max_depth) de l'arbre spécifiée par le programme soit atteinte."
   ]
  },
  {
   "cell_type": "code",
   "execution_count": null,
   "metadata": {},
   "outputs": [],
   "source": []
  },
  {
   "cell_type": "code",
   "execution_count": null,
   "metadata": {},
   "outputs": [],
   "source": []
  }
 ],
 "metadata": {
  "kernelspec": {
   "display_name": "Python 3",
   "language": "python",
   "name": "python3"
  },
  "language_info": {
   "name": "python",
   "version": "3.12.0"
  }
 },
 "nbformat": 4,
 "nbformat_minor": 2
}
