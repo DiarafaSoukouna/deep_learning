{
 "cells": [
  {
   "cell_type": "markdown",
   "metadata": {},
   "source": [
    "#### PARTIE I/B : Prédiction de la présence de la maladie cardiaque"
   ]
  },
  {
   "cell_type": "markdown",
   "metadata": {},
   "source": [
    "- Références :\n",
    "    - https://scikit-learn.org/stable/modules/tree.html#:~:text=DecisionTreeClassifier%20is%20a%20class%20capable,class%20classification%20on%20a%20dataset.&text=In%20case%20that%20there%20are,lowest%20index%20amongst%20those%20classes."
   ]
  },
  {
   "cell_type": "markdown",
   "metadata": {},
   "source": [
    "3. Notre Data scientist nous suggère ici d’utiliser un modèle de classification pour prédire si un nouveau patient est malade du coeur ou non.\n",
    "\n",
    "    - (a) Êtes vous d’accord avec lui ? Pourquoi ?\n",
    "        - Oui, on est d'accord ! Parceque la donnée à prédire est de classe binaire, donc la prédiction se fait sur deux catégories.\n",
    "    \n",
    "    - (b) Ce problème fait partie de quelle classe de problèmes de Machine Learning ? Justifiez.\n",
    "        - C'est un problème d'apprentissage supervisé ! On connaît les données sur lesquelles le modèle sera formé, donc la prédiction sera faite à partir des données fournies."
   ]
  },
  {
   "cell_type": "markdown",
   "metadata": {},
   "source": [
    "4. Suggérez un algorithme de classification pour ce problème de prédiction de la variable target. Pourquoi cet algorithme ? Décrivez brièvement le principe de cet algorithme.\n",
    "    - Notre choix d'algorithme de classification portera sur les **Arbres de décision**.\n",
    "\n",
    "    - Il existe plusieurs algorithmes de classification qu'on peut utiliser en fonction du problème. Mais les arbres de décision sont des algorithmes très simple à utiliser pour un problème de classification binaire.\n",
    "    Toute fois, on peut aussi tester d'autres algorithmes avec celui-ci en faisant des comparaisons et le bon algorithme sera donc celui qui donnera les meilleures perfomances pour notre problème.\n",
    "    \n",
    "    - Alors comment l'arbre de décision (dans notre cas) marche ?\n",
    "    L'algorithme de l'arbre de décision analyse les données et trouve la valeur de la variable prédictive (target) ensuite sépare les données en deux ensembles.\n",
    "    Après la première séparation, il examine chacun des deux sous-ensembles de données et trouve une variable prédictive et les caractéristiques qui donnent le plus d'informations liées à celle-ci (target). Le processus se poursuit jusqu'à ce que la profondeur maximale (max_depth) de l'arbre spécifiée par le programme soit atteinte."
   ]
  },
  {
   "cell_type": "markdown",
   "metadata": {},
   "source": [
    "5. Soit $y_{subset}$ = (1, 1, 0, 0, 1, 0, 1, 0, 0, 1) et $\\hat{y}_{subset}$ = (1, 0, 1, 0, 1, 1, 1, 1, 0, 1) respectivement, une partie des vraies étiquettes et des étiquettes prédites (par votre algorithme de classification).\n",
    "    - (a) Proposez un pseudo code (décrivez la procédure algorithmique) permettant de calculer rapidement la  précision (“accuracy”) de votre modèle en partant de $y_{subset}$ et $\\hat{y}_{subset}$.\n",
    "        - Soit les variables : **TN, FN, FP et TP** correspondent respectivement aux nombres de vrais négatifs faux négatifs, faux positifs et vrais positifs;\n",
    "        - Et la variable **precision** (la précision du modèle);\n",
    "        - **precision = TP / (TP + FP)**;\n",
    "        - Afficher la précision du modèle (la variable **precision**)\n",
    "\n",
    "    \n",
    "    - (b) La matrice de confusion à partir des valeurs des vecteurs $y_{subset}$ et $\\hat{y}_{subset}$.\n",
    "        -   |                    | **True 0** |  **True 1** |\n",
    "            |:------------------:|:----------:|:-----------:|\n",
    "            |  **Predicted 0**   |  TN = 2    |  FN = 1     |\n",
    "            |  **Predicted 1**   |  FP = 3    |  TP = 4     |\n",
    "    \n",
    "    - (c) Déduisez de la matrice de confusion : l’“accuracy”, la sensibilité (taux d’individus positifs bien prédits) et la spécificité (taux d’individus négatifs bien prédits) et 1 − spécificité (taux d’individus négatifs mal prédits) de votre modèle de classification.\n",
    "        - **Accuracy = (TP + TN) / (TP + TN + FN + FP)** ==> **Accuracy = 0.6**\n",
    "            - Donc la précision du score de classification est de 60%.\n",
    "\n",
    "        - **La sensibilité (recall) = TP / (TP + FN)** ==> **Sensibilité = 0.8**\n",
    "            - Donc **80%** des individus positifs sont bien prédits.\n",
    "\n",
    "        - **La spécificité = TN / (TN + FP)** ==> **Spécificité = 0.4**\n",
    "            - Donc **40%** des individus négatifs sont bien prédits.\n",
    "\n",
    "        - **1 - spécificité = 0.6**\n",
    "            - Donc **60%** des individus négatifs sont mal prédits.\n",
    "    \n",
    "    - (d) Suggérez une méthode de comparaison de plusieurs modèles de classification binaires.\n",
    "        - On peut comparer plusieurs modèles de classification binaires en faisant :\n",
    "            - Une liste de selection de modèles de classification binaires ;\n",
    "            - On construit le modèle de chaque élément de la liste ;\n",
    "            - Pour chaque élément de la liste, on calcule les différentes mesures de performance telles que la précision, le rappel et la mesure F, ...\n",
    "            - Enfin à travers la performance de chaque modèle, on peut deduire le bon modèle à choisir.\n"
   ]
  },
  {
   "cell_type": "markdown",
   "metadata": {},
   "source": []
  }
 ],
 "metadata": {
  "kernelspec": {
   "display_name": "Python 3",
   "language": "python",
   "name": "python3"
  },
  "language_info": {
   "codemirror_mode": {
    "name": "ipython",
    "version": 3
   },
   "file_extension": ".py",
   "mimetype": "text/x-python",
   "name": "python",
   "nbconvert_exporter": "python",
   "pygments_lexer": "ipython3",
   "version": "undefined.undefined.undefined"
  }
 },
 "nbformat": 4,
 "nbformat_minor": 2
}
