{
 "cells": [
  {
   "cell_type": "markdown",
   "metadata": {},
   "source": [
    "#### PARTIE I/B : Prédiction de la présence de la maladie cardiaque"
   ]
  },
  {
   "cell_type": "markdown",
   "metadata": {},
   "source": [
    "- Références :\n",
    "    - https://scikit-learn.org/stable/modules/tree.html#:~:text=DecisionTreeClassifier%20is%20a%20class%20capable,class%20classification%20on%20a%20dataset.&text=In%20case%20that%20there%20are,lowest%20index%20amongst%20those%20classes."
   ]
  },
  {
   "cell_type": "markdown",
   "metadata": {},
   "source": [
    "3. Notre Data scientist nous suggère ici d’utiliser un modèle de classification pour prédire si un nouveau patient est malade du coeur ou non.\n",
    "\n",
    "    - (a) Êtes vous d’accord avec lui ? Pourquoi ?\n",
    "        - Oui, on est d'accord ! Parceque la donnée à prédire est de classe binaire, donc la prédiction se fait sur deux catégories.\n",
    "    \n",
    "    - (b) Ce problème fait partie de quelle classe de problèmes de Machine Learning ? Justifiez.\n",
    "        - C'est un problème d'apprentissage supervisé ! On connaît les données sur lesquelles le modèle sera formé, donc la prédiction sera faite à partir des données fournies."
   ]
  },
  {
   "cell_type": "markdown",
   "metadata": {},
   "source": [
    "4. Suggérez un algorithme de classification pour ce problème de prédiction de la variable target. Pourquoi cet algorithme ? Décrivez brièvement le principe de cet algorithme.\n",
    "    - Notre choix d'algorithme de classification portera sur les **Arbres de décision**.\n",
    "\n",
    "    - Il existe plusieurs algorithmes de classification qu'on peut utiliser en fonction du problème. Mais les arbres de décision sont des algorithmes très simple à utiliser pour un problème de classification binaire.\n",
    "    Toute fois, on peut aussi tester d'autres algorithmes avec celui-ci en faisant des comparaisons et le bon algorithme sera donc celui qui donnera les meilleures perfomances pour notre problème.\n",
    "    \n",
    "    - Alors comment l'arbre de décision (dans notre cas) marche ?\n",
    "    L'algorithme de l'arbre de décision analyse les données et trouve la valeur de la variable prédictive (target) ensuite sépare les données en deux ensembles.\n",
    "    Après la première séparation, il examine chacun des deux sous-ensembles de données et trouve une variable prédictive et les caractéristiques qui donnent le plus d'informations liées à celle-ci (target). Le processus se poursuit jusqu'à ce que la profondeur maximale (max_depth) de l'arbre spécifiée par le programme soit atteinte."
   ]
  },
  {
   "cell_type": "markdown",
   "metadata": {},
   "source": [
    "5. Soit $y_{subset}$ = (1, 1, 0, 0, 1, 0, 1, 0, 0, 1) et $\\hat{y}_{subset}$ = (1, 0, 1, 0, 1, 1, 1, 1, 0, 1) respectivement, une partie des vraies étiquettes et des étiquettes prédites (par votre algorithme de classification).\n",
    "    - (d) ddfdfd\n",
    "        - Response\n",
    "    \n",
    "    - (d) Suggérez une méthode de comparaison de plusieurs modèles de classification binaires.\n",
    "        - On peut comparer plusieurs modèles de classification binaires en faisant :\n",
    "            - Une liste de selection de modèles de classification binaires ;\n",
    "            - On construit le modèle de chaque élément de la liste ;\n",
    "            - Pour chaque élément de la liste, on calcule les différentes mesures de performance telles que la précision, le rappel et la mesure F, ...\n",
    "            - Enfin à travers la performance de chaque modèle, on peut deduire le bon modèle à choisir.\n"
   ]
  },
  {
   "cell_type": "markdown",
   "metadata": {},
   "source": [
    "Latex subscript:\n",
    "\n",
    "$x_{2}$\n",
    "\n",
    "Latex superscript:\n",
    "\n",
    "$x^{2}$\n",
    "\n",
    "Other :\n",
    "\n",
    "$\\hat{Y}$\n",
    "\n",
    "$\\tilde{x}$\n",
    "\n",
    "$\\vec{x}$\n",
    "\n",
    "$\\widehat{h}$"
   ]
  },
  {
   "cell_type": "markdown",
   "metadata": {},
   "source": [
    "#### Test block color\n",
    "\n",
    "- <div class=\"alert alert-block alert-success\">\n",
    "    <b>Up to you:</b> Use green boxes sparingly, and only for some specific \n",
    "    purpose that the other boxes can't cover. For example, if you have a lot \n",
    "    of related content to link to, maybe you decide to use green boxes for \n",
    "    related links from each section of a notebook.\n",
    "    </div>"
   ]
  },
  {
   "cell_type": "markdown",
   "metadata": {},
   "source": []
  }
 ],
 "metadata": {
  "kernelspec": {
   "display_name": "Python 3",
   "language": "python",
   "name": "python3"
  },
  "language_info": {
   "name": "python",
   "version": "3.12.0"
  }
 },
 "nbformat": 4,
 "nbformat_minor": 2
}
