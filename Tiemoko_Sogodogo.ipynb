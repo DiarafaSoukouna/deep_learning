{
 "cells": [
  {
   "cell_type": "markdown",
   "metadata": {},
   "source": [
    "#### PARTIE I/B : Prédiction de la présence de la maladie cardiaque"
   ]
  },
  {
   "cell_type": "markdown",
   "metadata": {},
   "source": [
    "3. Notre Data scientist nous suggère ici d’utiliser un modèle de classification pour prédire si un nouveau patient est malade du coeur ou non.\n",
    "\n",
    "    - (a) Êtes vous d’accord avec lui ? Pourquoi ?\n",
    "        - Oui, on est d'accord ! Parceque la donnée à prédire est de classe binaire, donc la prédiction se fait sur deux catégories.\n",
    "    \n",
    "    - (b) Ce problème fait partie de quelle classe de problèmes de Machine Learning ? Justifiez.\n",
    "        - C'est un problème d'apprentissage supervisé ! On connaît les données sur lesquelles le modèle sera formé, donc la prédiction sera faite à partir des données fournies.\n",
    "\n",
    "4. Suggérez un algorithme de classification pour ce problème de prédiction de la variable target. Pourquoi cet algorithme ? Décrivez brièvement le principe de cet algorithme.\n",
    "    - Notre choix d'algorithme de classification portera sur les **Arbres de décision**.\n",
    "    - Il existe plusieurs algorithmes de classification qu'on peut utiliser en fonction du problème. Mais les arbres de décision sont des algorithmes très simple à utiliser pour un problème de classification binaire.\n",
    "    Toute fois, on peut aussi tester d'autres algorithmes avec celui-ci en faisant des comparaisons et le bon algorithme sera donc celui qui donnera les meilleures perfomances pour notre problème.\n",
    "    - Alors comment l'arbre de décision (dans notre cas) marche ?"
   ]
  },
  {
   "cell_type": "code",
   "execution_count": null,
   "metadata": {},
   "outputs": [],
   "source": []
  }
 ],
 "metadata": {
  "kernelspec": {
   "display_name": "Python 3",
   "language": "python",
   "name": "python3"
  },
  "language_info": {
   "name": "python",
   "version": "3.12.0"
  }
 },
 "nbformat": 4,
 "nbformat_minor": 2
}
