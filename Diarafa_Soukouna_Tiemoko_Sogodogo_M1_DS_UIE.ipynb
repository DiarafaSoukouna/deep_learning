{
 "cells": [
  {
   "cell_type": "markdown",
   "metadata": {},
   "source": [
    "## Partie I : Machine Learning (Questions de cours pratiques)\n",
    "### Partie I/A : Prédiction de la fréquence cardiaque maximale\n",
    "**Dans cette première partie, nous nous concentrons sur l’étude de la fréquence cardiaque maximale atteinte, la variable thalach dans le jeu de données**"
   ]
  },
  {
   "cell_type": "markdown",
   "metadata": {},
   "source": [
    "1. Questions préliminaires\n",
    "    - (a) Quelle est la nature/type de la variable thalach ? Même question pour age, sex et chol.<br>\n",
    "        La variable :\n",
    "        - **thalach** (\"_fréquence cardiaque maximale atteinte_\") est une variable quantitative discrète.<br>\n",
    "        _La fréquence cardiaque se mesure à travers des valeurs numériques, ce qui en fait une variable quantitative discrète. De plus, le nombre de battements cardiaques se compte de manière entière, et non sous forme d'intervalles ou de nombres décimaux. Cela rend la variable 'thalach' une variable quantitative discrète_\n",
    "        \n",
    "        - **age** (\"_âge du patient_\") est une variable quantitative discrète.<br>\n",
    "        _..._\n",
    "\n",
    "        - **sex** (\"_sexe du patient_\") est une variable ...<br>\n",
    "        _..._\n",
    "\n",
    "        - **chol** (\"_quantité de cholestérol_\") est une variable ...<br>\n",
    "        _..._\n",
    "    \n",
    "    - (b) Selon vous, comment peut-on vérifier l’existence d’un lien et la force de ce lien entre la variable chol et thalach ?\n",
    "    Pour verifier l'existence d'un lien entre la variable chol et la variable thalach on peut calculer le coefficient de correlation entre les deux variables.\n",
    "    Pour ce faire nous pouvons utiliser la correlation de Pearson (Le coefficient de Pearson est un indice reflétant une relation linéaire entre deux variables continues). Le coefficient de corrélation varie entre -1 et +1, 0 reflétant une relation nulle entre les deux variables, une valeur négative (corrélation négative) signifiant que lorsqu'une des variable augmente, l'autre diminue ; tandis qu'une valeur positive (corrélation positive) indique que les deux variables varient ensemble dans le même sens.<br>\n",
    "    Source: http://www.biostat.ulg.ac.be/pages/Site_r/corr_pearson.html<br>\n",
    "\n",
    "        Processus: Le coefficient de Pearson se calcule comme suit: \n",
    "        $$\n",
    "            r = \\frac{{\\sum (X_i - \\bar{X}) \\cdot (Y_i - \\bar{Y})}}{{\\sqrt{\\sum (X_i - \\bar{X})^2} \\cdot \\sqrt{\\sum (Y_i - \\bar{Y})^2}}}\n",
    "        $$\n",
    "\n",
    "        Avec :\n",
    "        -  X et Y   Nos deux variables entre lesquelles nous souhaitons verifier l'existence d'un lien ( X  pour chol et Y pour thalach );\n",
    "        - r : le coefficient de corrélation de Pearson;"
   ]
  },
  {
   "cell_type": "markdown",
   "metadata": {},
   "source": [
    "2. A présent, on souhaite mettre en place un modèle qui nous permettra de prédire la\n",
    "fréquence cardiaque maximale (thalach) d’un patient à partir de différentes variables\n",
    "identifiées comme ayant un effet / lien significatif sur thalach. Dans la suite, on considérera que ces variables identifiées sont: age, sex, trestbps, chol, oldpeak et thal. Un Data\n",
    "scientist nous suggère un modèle de régression linéaire pour ce problème de prédiction.\n",
    "    - (a) Est-ce que la régression linéaire est réellement le modèle adapté pour ce problème ? Justifiez votre réponse.\n",
    "        - Oui la régression linéaire est le modèle adapté pour ce problème. Car ...\n",
    "    \n",
    "    - (b) Identifiez la variable étiquette de ce problème.\n",
    "        - La variable étiquette de ce problème est la variable thalach (variable à prédire).\n",
    "    \n",
    "    - (c) Identifiez la ou les variables caractéristiques de ce problème. Elles sont :\n",
    "        - $x^{[1]}$ : age\n",
    "        - $x^{[2]}$ : sex\n",
    "        - $x^{[3]}$ : trestbps\n",
    "        - $x^{[4]}$ : chol\n",
    "        - $x^{[5]}$ : oldpeak\n",
    "        - $x^{[6]}$ : thal\n",
    "    \n",
    "    - (d) Écrivez l’expression mathématique du modèle de régression pour le patient i (avec i ∈ {0, . . . , n = 302})  ayant l’étiquette $y_{i}$ et les caractéristiques $x_{i}^{[1]}$, . . ., $x_{i}^{[6]}$, sans oublier le terme d’erreur (résidu) $\\epsilon_{i}$. On note $\\beta_{0}$, $\\beta_{1}$, . . ., $\\beta_{6}$ les paramètres du modèle."
   ]
  },
  {
   "cell_type": "markdown",
   "metadata": {},
   "source": []
  },
  {
   "cell_type": "markdown",
   "metadata": {},
   "source": [
    "## Partie II : Deep Learning - Théorie & Pratique\n",
    "### Partie II/A : Deep Learning - Théorie (Optimisation)"
   ]
  },
  {
   "cell_type": "markdown",
   "metadata": {},
   "source": []
  }
 ],
 "metadata": {
  "language_info": {
   "name": "python"
  }
 },
 "nbformat": 4,
 "nbformat_minor": 2
}
